{
 "cells": [
  {
   "cell_type": "code",
   "execution_count": 2,
   "id": "f4b8d024-5382-4726-95de-550b79104f9e",
   "metadata": {},
   "outputs": [],
   "source": [
    "#Loading necessary Libraries\n",
    "import pandas as pd\n",
    "import numpy as np\n",
    "import seaborn as sns\n",
    "import matplotlib.pyplot as plt\n",
    "\n",
    "import warnings\n",
    "warnings.filterwarnings('ignore')"
   ]
  },
  {
   "cell_type": "code",
   "execution_count": 23,
   "id": "be10bd90-6eb3-497b-88eb-2d8d1f716077",
   "metadata": {},
   "outputs": [],
   "source": [
    "loan_dataset=pd.read_csv('loan.csv')"
   ]
  },
  {
   "cell_type": "code",
   "execution_count": 24,
   "id": "29ae5916-b476-4c55-a1b0-3e6774b70166",
   "metadata": {},
   "outputs": [
    {
     "name": "stdout",
     "output_type": "stream",
     "text": [
      "Number of Rows: 39717\n",
      "Number of Columns: 111\n",
      "Number of Missing values in the dataset: 2263366\n",
      "Number of Unique values in the dataset: 416800\n",
      "Number of Duplicate data in dataset: 0\n"
     ]
    }
   ],
   "source": [
    "#Number of Rows and Columns in the dataset\n",
    "print('Number of Rows:',loan_dataset.shape[0])\n",
    "print('Number of Columns:',loan_dataset.shape[1])\n",
    "#Number of Missing values in the dataset\n",
    "print('Number of Missing values in the dataset:',loan_dataset.isnull().sum().sum())\n",
    "#Number of unique values in the dataset\n",
    "print('Number of Unique values in the dataset:',loan_dataset.nunique().sum())\n",
    "#Number of Duplicates in the dataset\n",
    "print('Number of Duplicate data in dataset:',loan_dataset.duplicated().sum())"
   ]
  },
  {
   "cell_type": "code",
   "execution_count": 25,
   "id": "84e12e63-1995-4f08-9e94-e9646c229b79",
   "metadata": {},
   "outputs": [
    {
     "name": "stdout",
     "output_type": "stream",
     "text": [
      "id                              0.0\n",
      "earliest_cr_line                0.0\n",
      "inq_last_6mths                  0.0\n",
      "open_acc                        0.0\n",
      "pub_rec                         0.0\n",
      "                              ...  \n",
      "avg_cur_bal                   100.0\n",
      "bc_open_to_buy                100.0\n",
      "bc_util                       100.0\n",
      "mo_sin_old_rev_tl_op          100.0\n",
      "total_il_high_credit_limit    100.0\n",
      "Length: 111, dtype: float64\n"
     ]
    }
   ],
   "source": [
    "#Checking percentage of null values present in each column\n",
    "print((loan_dataset.isnull().sum()/loan_dataset.shape[0]*100).round(2).sort_values(ascending=True))"
   ]
  },
  {
   "cell_type": "code",
   "execution_count": 26,
   "id": "8868e0e2-9139-4590-9694-4d932445933f",
   "metadata": {},
   "outputs": [
    {
     "name": "stdout",
     "output_type": "stream",
     "text": [
      "(39717, 111)\n"
     ]
    }
   ],
   "source": [
    "#Shape of the dataset before cleaning\n",
    "print(loan_dataset.shape)"
   ]
  },
  {
   "cell_type": "code",
   "execution_count": 27,
   "id": "96c97395-3ed3-4537-8470-ad1ab7d6f3db",
   "metadata": {},
   "outputs": [],
   "source": [
    "#Removing columns which have more than 50% of null values\n",
    "#dataset=dataset.loc[:,dataset.isnull().sum()/dataset.shape[0]*100<50]\n",
    "loan_dataset=loan_dataset.dropna(axis=1,how=\"all\")"
   ]
  },
  {
   "cell_type": "code",
   "execution_count": 28,
   "id": "4ee34f56-6d2e-4631-9119-157995ea3e38",
   "metadata": {},
   "outputs": [
    {
     "name": "stdout",
     "output_type": "stream",
     "text": [
      "(39717, 57)\n"
     ]
    }
   ],
   "source": [
    "#Shape of the dataset after cleaning\n",
    "print(loan_dataset.shape)"
   ]
  },
  {
   "cell_type": "code",
   "execution_count": 29,
   "id": "afbb4a9b-8a0b-4e53-9910-b1a2f1b3409e",
   "metadata": {},
   "outputs": [
    {
     "name": "stdout",
     "output_type": "stream",
     "text": [
      "id                             0.00\n",
      "dti                            0.00\n",
      "delinq_2yrs                    0.00\n",
      "earliest_cr_line               0.00\n",
      "inq_last_6mths                 0.00\n",
      "policy_code                    0.00\n",
      "open_acc                       0.00\n",
      "pub_rec                        0.00\n",
      "revol_bal                      0.00\n",
      "addr_state                     0.00\n",
      "last_pymnt_amnt                0.00\n",
      "initial_list_status            0.00\n",
      "out_prncp                      0.00\n",
      "out_prncp_inv                  0.00\n",
      "total_pymnt                    0.00\n",
      "total_pymnt_inv                0.00\n",
      "total_rec_prncp                0.00\n",
      "total_rec_int                  0.00\n",
      "total_rec_late_fee             0.00\n",
      "total_acc                      0.00\n",
      "recoveries                     0.00\n",
      "zip_code                       0.00\n",
      "purpose                        0.00\n",
      "member_id                      0.00\n",
      "loan_amnt                      0.00\n",
      "funded_amnt                    0.00\n",
      "funded_amnt_inv                0.00\n",
      "term                           0.00\n",
      "int_rate                       0.00\n",
      "installment                    0.00\n",
      "grade                          0.00\n",
      "sub_grade                      0.00\n",
      "delinq_amnt                    0.00\n",
      "home_ownership                 0.00\n",
      "annual_inc                     0.00\n",
      "verification_status            0.00\n",
      "issue_d                        0.00\n",
      "loan_status                    0.00\n",
      "pymnt_plan                     0.00\n",
      "url                            0.00\n",
      "application_type               0.00\n",
      "acc_now_delinq                 0.00\n",
      "collection_recovery_fee        0.00\n",
      "last_credit_pull_d             0.01\n",
      "title                          0.03\n",
      "tax_liens                      0.10\n",
      "revol_util                     0.13\n",
      "collections_12_mths_ex_med     0.14\n",
      "chargeoff_within_12_mths       0.14\n",
      "last_pymnt_d                   0.18\n",
      "pub_rec_bankruptcies           1.75\n",
      "emp_length                     2.71\n",
      "emp_title                      6.19\n",
      "desc                          32.59\n",
      "mths_since_last_delinq        64.66\n",
      "mths_since_last_record        92.99\n",
      "next_pymnt_d                  97.13\n",
      "dtype: float64\n"
     ]
    }
   ],
   "source": [
    "#Checking percentage of null values present in each column after cleaning\n",
    "print((loan_dataset.isnull().sum()/loan_dataset.shape[0]*100).round(2).sort_values(ascending=True))"
   ]
  },
  {
   "cell_type": "code",
   "execution_count": 30,
   "id": "a96ccf0f-d10b-4be1-8d6d-72556dbab672",
   "metadata": {},
   "outputs": [
    {
     "name": "stdout",
     "output_type": "stream",
     "text": [
      "tax_liens                         1\n",
      "delinq_amnt                       1\n",
      "chargeoff_within_12_mths          1\n",
      "acc_now_delinq                    1\n",
      "application_type                  1\n",
      "policy_code                       1\n",
      "collections_12_mths_ex_med        1\n",
      "pymnt_plan                        1\n",
      "initial_list_status               1\n",
      "term                              2\n",
      "next_pymnt_d                      2\n",
      "pub_rec_bankruptcies              3\n",
      "loan_status                       3\n",
      "verification_status               3\n",
      "pub_rec                           5\n",
      "home_ownership                    5\n",
      "grade                             7\n",
      "inq_last_6mths                    9\n",
      "emp_length                       11\n",
      "delinq_2yrs                      11\n",
      "purpose                          14\n",
      "sub_grade                        35\n",
      "open_acc                         40\n",
      "addr_state                       50\n",
      "issue_d                          55\n",
      "total_acc                        82\n",
      "mths_since_last_delinq           95\n",
      "last_pymnt_d                    101\n",
      "last_credit_pull_d              106\n",
      "mths_since_last_record          111\n",
      "int_rate                        371\n",
      "earliest_cr_line                526\n",
      "zip_code                        823\n",
      "loan_amnt                       885\n",
      "funded_amnt                    1041\n",
      "revol_util                     1089\n",
      "out_prncp                      1137\n",
      "out_prncp_inv                  1138\n",
      "total_rec_late_fee             1356\n",
      "collection_recovery_fee        2616\n",
      "dti                            2868\n",
      "recoveries                     4040\n",
      "annual_inc                     5318\n",
      "total_rec_prncp                7976\n",
      "funded_amnt_inv                8205\n",
      "installment                   15383\n",
      "title                         19615\n",
      "revol_bal                     21711\n",
      "desc                          26526\n",
      "emp_title                     28820\n",
      "last_pymnt_amnt               34930\n",
      "total_rec_int                 35148\n",
      "total_pymnt_inv               37518\n",
      "total_pymnt                   37850\n",
      "url                           39717\n",
      "member_id                     39717\n",
      "id                            39717\n",
      "dtype: int64\n"
     ]
    }
   ],
   "source": [
    "#Checking columns for data which are unique in nature\n",
    "print(loan_dataset.nunique().sort_values(ascending=True))"
   ]
  },
  {
   "cell_type": "code",
   "execution_count": 33,
   "id": "1f974935-87a7-426e-9c89-750321308ce4",
   "metadata": {},
   "outputs": [
    {
     "ename": "NameError",
     "evalue": "name 'loan_data' is not defined",
     "output_type": "error",
     "traceback": [
      "\u001b[1;31m---------------------------------------------------------------------------\u001b[0m",
      "\u001b[1;31mNameError\u001b[0m                                 Traceback (most recent call last)",
      "Cell \u001b[1;32mIn[33], line 2\u001b[0m\n\u001b[0;32m      1\u001b[0m \u001b[38;5;66;03m#Removing irrelevant columns which contain only 1 unique value as it will not contribute to our EDA\u001b[39;00m\n\u001b[1;32m----> 2\u001b[0m loan_dataset\u001b[38;5;241m=\u001b[39mloan_dataset\u001b[38;5;241m.\u001b[39mloc[:,\u001b[43mloan_data\u001b[49m\u001b[38;5;241m.\u001b[39mnunique()\u001b[38;5;241m>\u001b[39m\u001b[38;5;241m1\u001b[39m]\n",
      "\u001b[1;31mNameError\u001b[0m: name 'loan_data' is not defined"
     ]
    }
   ],
   "source": [
    "#Removing irrelevant columns which contain only 1 unique value as it will not contribute to our EDA\n",
    "loan_dataset=loan_dataset.loc[:,loan_data.nunique()>1]"
   ]
  },
  {
   "cell_type": "code",
   "execution_count": null,
   "id": "e8ea81f5-9740-4e4f-b729-cb3d5986616b",
   "metadata": {},
   "outputs": [],
   "source": [
    "#Removing irrelevant columns from the dataset\n",
    "loan_dataset=loan_dataset.drop(['member_id'],axis=1)\n",
    "loan_dataset=loan_dataset.drop(['title','emp_title','desc','url'],axis=1)\n"
   ]
  },
  {
   "cell_type": "code",
   "execution_count": null,
   "id": "95c853fe-dbab-4693-ab35-c28a21f9882e",
   "metadata": {},
   "outputs": [],
   "source": []
  }
 ],
 "metadata": {
  "kernelspec": {
   "display_name": "Python 3 (ipykernel)",
   "language": "python",
   "name": "python3"
  },
  "language_info": {
   "codemirror_mode": {
    "name": "ipython",
    "version": 3
   },
   "file_extension": ".py",
   "mimetype": "text/x-python",
   "name": "python",
   "nbconvert_exporter": "python",
   "pygments_lexer": "ipython3",
   "version": "3.12.0"
  }
 },
 "nbformat": 4,
 "nbformat_minor": 5
}
